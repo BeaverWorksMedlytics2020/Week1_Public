{
  "nbformat": 4,
  "nbformat_minor": 0,
  "metadata": {
    "colab": {
      "name": "Colab_Github_Intro.ipynb",
      "provenance": [],
      "collapsed_sections": []
    },
    "kernelspec": {
      "display_name": "Python 3",
      "language": "python",
      "name": "python3"
    },
    "language_info": {
      "codemirror_mode": {
        "name": "ipython",
        "version": 3
      },
      "file_extension": ".py",
      "mimetype": "text/x-python",
      "name": "python",
      "nbconvert_exporter": "python",
      "pygments_lexer": "ipython3",
      "version": "3.7.3"
    }
  },
  "cells": [
    {
      "cell_type": "markdown",
      "metadata": {
        "colab_type": "text",
        "id": "3LqQndJfqd2X"
      },
      "source": [
        "# Getting Comfortable with Colaboratory\n",
        "\n",
        "Google Colaboratory (Colab) is an free online Python notebook that runs on a cpu or gpu in the cloud (i.e. some server at Google). If you have a Google account, you can code with Colab without downloading any IDE (Integrated Development Environment) or installing any packages onto your local machine.\n",
        "<br></br>\n",
        "\n",
        "Colab Notebooks are functionally very similar to Jupyter Notebooks (with a few exceptions for uploading/downloading to/from local files) while also having similar funcitonalities to Google Docs/Sheets/Slides where you can collaborate with group members in real time and comment on blocks of code/text.\n",
        "<br></br>\n",
        "\n",
        "Here are some basics for working in Colab:\n",
        "\n",
        "* Hit Ctrl/⌘ + M + H to show Colab's keyboard shortcuts. You can even **customize shortcuts** to your own liking. Here are some examples of default shortcuts in Colab:\n",
        "  * edit cell: enter\n",
        "  * run current cell: shift + enter\n",
        "  * insert code cell above: Ctrl/⌘ + M + A\n",
        "  * insert code cell below: Ctrl/⌘ + M + B\n",
        "  * delete cell/selection: Ctrl/⌘ + M + D\n",
        "  * interupt execution: Ctrl/⌘ + M + I\n",
        "  * convert to code cell: Ctrl/⌘ + M + Y\n",
        "  * convert to text cell: Ctrl/⌘ + M + M\n",
        "* To run all cells in a notebook use Runtime > Run All.\n",
        "* Move the cell you are currently editing up or down in the notebook's cell order by clicking the up/down arrows in the top right corner. \n",
        "* Download your current notebook to your local drive using File > Download .ipynb \n",
        "* To clear a code cell's output click on the 3 dots in the top right corner and select \"clear output\"."
      ]
    },
    {
      "cell_type": "markdown",
      "metadata": {
        "colab_type": "text",
        "id": "PEKoaiRXqd4f"
      },
      "source": [
        "# Packages\n",
        "\n",
        "Colab already has most common packages installed and ready for import, but if it doesn't have the particular package you need, you can install it using \"! pip install mypackage\" from inside a notebook cell.\n",
        "\n",
        "Try installing tensorflow in the cell below. It should output \"Requirement already satisfied\", meaning that the package is already installed on the remote cpu you are using. "
      ]
    },
    {
      "cell_type": "code",
      "metadata": {
        "colab_type": "code",
        "id": "tKhUUZ81qjN7",
        "colab": {}
      },
      "source": [
        "## YOUR CODE HERE"
      ],
      "execution_count": null,
      "outputs": []
    },
    {
      "cell_type": "markdown",
      "metadata": {
        "colab_type": "text",
        "id": "8CRkibIdqd8d"
      },
      "source": [
        "## Downloading/Uploading Locally in Colab\n",
        "\n",
        "Although you are running your code on a remote cpu/gpu, you can still download/upload files to/from your local drive. There are 2 special colab commands to do so. For both you will need to import \"files\" from \"google.colab\". Note that these commands do not work on IDEs, and your regular download/upload functions will not work in Colab. Note: if you are uploading files from a url to a local variable, you can do so the same way you would outside of Colab (ex. pd.read_csv(url)).\n",
        "\n",
        "To upload a file: \n",
        " \n",
        "\n",
        "```\n",
        "from google.colab import files\n",
        "\n",
        "uploaded = files.upload()\n",
        "```\n",
        "Whenever files.upload() is run, a GUI (graphical user interface) popup will appear in the output. Select \"Choose Files\" and select a file from your machine.\n",
        "\n",
        "\n",
        "When downloading files, use the files.download('filename.ext') function and the file will be saved into your downloads folder. This requires the filename you input to be a file already in existence in the cpu of the remote server you are using. This means that you will have to write the file before downloading it to your own machine. How to write a file depends on the filetype. An example for a csv file is as follows:\n",
        "\n",
        "``` \n",
        "from google.colab import files\n",
        "\n",
        "files.download('filename.csv')\n",
        "```\n",
        "\n",
        "Create a .txt file somewhere in your local drive and upload it to colab. Remember to save it as a variable."
      ]
    },
    {
      "cell_type": "code",
      "metadata": {
        "colab_type": "code",
        "id": "odsb4Kabqy_p",
        "colab": {}
      },
      "source": [
        "## YOUR CODE HERE"
      ],
      "execution_count": null,
      "outputs": []
    },
    {
      "cell_type": "markdown",
      "metadata": {
        "colab_type": "text",
        "id": "3s3EwrTMq1EO"
      },
      "source": [
        "Now download the same file you just uploaded. "
      ]
    },
    {
      "cell_type": "code",
      "metadata": {
        "colab_type": "code",
        "id": "fAiZoB3Rq3bm",
        "colab": {
          "base_uri": "https://localhost:8080/",
          "height": 17
        },
        "outputId": "0b39dcfb-a780-4b75-b84b-d288c2c2c185"
      },
      "source": [
        "## YOUR CODE HERE"
      ],
      "execution_count": null,
      "outputs": [
        {
          "output_type": "display_data",
          "data": {
            "application/javascript": [
              "\n",
              "    async function download(id, filename, size) {\n",
              "      if (!google.colab.kernel.accessAllowed) {\n",
              "        return;\n",
              "      }\n",
              "      const div = document.createElement('div');\n",
              "      const label = document.createElement('label');\n",
              "      label.textContent = `Downloading \"${filename}\": `;\n",
              "      div.appendChild(label);\n",
              "      const progress = document.createElement('progress');\n",
              "      progress.max = size;\n",
              "      div.appendChild(progress);\n",
              "      document.body.appendChild(div);\n",
              "\n",
              "      const buffers = [];\n",
              "      let downloaded = 0;\n",
              "\n",
              "      const channel = await google.colab.kernel.comms.open(id);\n",
              "      // Send a message to notify the kernel that we're ready.\n",
              "      channel.send({})\n",
              "\n",
              "      for await (const message of channel.messages) {\n",
              "        // Send a message to notify the kernel that we're ready.\n",
              "        channel.send({})\n",
              "        if (message.buffers) {\n",
              "          for (const buffer of message.buffers) {\n",
              "            buffers.push(buffer);\n",
              "            downloaded += buffer.byteLength;\n",
              "            progress.value = downloaded;\n",
              "          }\n",
              "        }\n",
              "      }\n",
              "      const blob = new Blob(buffers, {type: 'application/binary'});\n",
              "      const a = document.createElement('a');\n",
              "      a.href = window.URL.createObjectURL(blob);\n",
              "      a.download = filename;\n",
              "      div.appendChild(a);\n",
              "      a.click();\n",
              "      div.remove();\n",
              "    }\n",
              "  "
            ],
            "text/plain": [
              "<IPython.core.display.Javascript object>"
            ]
          },
          "metadata": {
            "tags": []
          }
        },
        {
          "output_type": "display_data",
          "data": {
            "application/javascript": [
              "download(\"download_acc4df2a-f1ab-4005-922a-eec063424f8d\", \"uwu.txt\", 6)"
            ],
            "text/plain": [
              "<IPython.core.display.Javascript object>"
            ]
          },
          "metadata": {
            "tags": []
          }
        }
      ]
    },
    {
      "cell_type": "markdown",
      "metadata": {
        "id": "OHp15G2H0BGE",
        "colab_type": "text"
      },
      "source": [
        "# GPU Use\n",
        "\n",
        "Colab has (limited) free GPU support. \n",
        "> To enable GPU support use Edit > Notebook Settings > Hardware Accelerator > GPU.\n",
        "\n",
        "When switching between CPU and GPU, all your local variables will be cleared, so **don't switch in the middle of running something unless you are prepared to reload all your local variables**. \n",
        "\n",
        "Because the GPU is free and public, sometimes many people try to use it at the same time. This can result in you getting less GPU resources to work with. If you get a \"ResourcesExhausted\" error while using GPU, this means you have used all the GPU resources dedicated to your session and you will have to restart your runtime (Runtime > Restart Runtime). After restarting your runtime, your local variables will be wiped.\n",
        "> **You do not need GPU power unless you're doing something computationally intensive, like training a large neural network**. My advice would be to not use the GPU unless you notice your runtime slowing down significantly or you know you will need it during your session. \n",
        "\n",
        "<br></br>\n",
        "<br></br>\n",
        "<br></br>\n",
        "\n",
        "![](https://raw.githubusercontent.com/BeaverWorksMedlytics2020/Data_public/master/Images/Week1/colab1.JPG)"
      ]
    },
    {
      "cell_type": "markdown",
      "metadata": {
        "colab_type": "text",
        "id": "mYq_DUYRq5Kn"
      },
      "source": [
        "# Troubleshooting Colab\n",
        "* If you get a \"ResourcesExhausted\" error, this means you have used all the GPU resources dedicated to your session and you will need to restart your runtime (Runtime > Restart Runtime). After restarting your runtime your local environment will be wiped.\n",
        "* If you get a warning window that says you are close to reaching the session's memory limit, this means you are nearing a ResourcesExhausted error. You can still run code until the error occurs, but note that you will likely need to restart your runtime soon.\n",
        "* Colab will automatically end your runtime after 12 hours. Simply restart it if this happens\n",
        "* If things are running really slow, double check that you are using GPU\n",
        "* If you run into trouble and a cell is taking too long to run, use Runtime > Interrupt execution. You may have to wait a minute for the interruption to take effect.\n",
        "* If all else fails, try Runtime > Restart Runtime. This will wipe your local variables. \n",
        "* Google is your best friend! Learning how to effectively and efficiently use google for coding queries is a vital skill.\n",
        "* You can always ask an instructor for help"
      ]
    },
    {
      "cell_type": "markdown",
      "metadata": {
        "id": "V9ZuhwoV0BGI",
        "colab_type": "text"
      },
      "source": [
        "# Saving Your Progress\n",
        "\n",
        "Since we'll be pushing out notebooks and other material in public class repositories on **Github**, you will have to make your own **fork** of them each week. This way you'll be able to fetch any changes we make to the class repo while still being able to push edits to your own workspace. The catch is, Colab allows you to directly push your Notebook edits/commits to Github as well! Feel free to reference back to this notebook any time throughout the course."
      ]
    },
    {
      "cell_type": "markdown",
      "metadata": {
        "id": "oblVJDxB0BGJ",
        "colab_type": "text"
      },
      "source": [
        "## Github Forking\n",
        "\n",
        "These are snippets are from https://gist.github.com/Chaser324. We are including that file in the 01 folder in case the original gist goes away or if anyone wants to reference it as well.\n",
        "\n",
        "### 1. Making the fork 🍴\n",
        "Just head over to the GitHub repository and click the \"Fork\" button in the upper right corner. \n",
        "\n",
        "![](https://raw.githubusercontent.com/BeaverWorksMedlytics2020/Data_public/master/Images/Week1/colab2.png)\n",
        "\n",
        "It's just that simple. After a few seconds you should be redirected to your fork, the top of your page should look like this:\n",
        "\n",
        "![](https://raw.githubusercontent.com/BeaverWorksMedlytics2020/Data_public/master/Images/Week1/colab3.JPG)\n",
        "\n",
        "Once you've done that, you can use your favorite git client (whether it's your command line or git bash) to clone your repo. To get the link click on the green \"Clone\" button and copy the link that drops down\n",
        "\n",
        "```\n",
        "git clone https://github.com/[INSERT YOUR USERNAME]/Week1_Public\n",
        "```\n",
        "\n",
        "Now that you have a local clone don't forget to change into that directory for the following steps.\n",
        "\n",
        "### 2. Keeping Your Fork Up to Date\n",
        "Keep your fork up to date by tracking the original \"upstream\" repo (our class repo) that you forked. To do this, you'll need to add a remote:\n",
        "\n",
        "```\n",
        "# Add 'upstream' repo to list of remotes\n",
        "git remote add upstream https://github.com/BeaverWorksMedlytics2020/Week1_Public\n",
        "\n",
        "# Verify the new remote named 'upstream'\n",
        "git remote -v\n",
        "```\n",
        "\n",
        "Whenever you want to update your fork with the latest upstream changes, you'll need to first fetch the upstream repo's branches and latest commits to bring them into your repository.:\n",
        "\n",
        "```\n",
        "# Fetch from upstream remote\n",
        "git fetch upstream\n",
        "```\n",
        "\n",
        "Now, checkout your own master branch and merge the upstream repo's master branch:\n",
        "\n",
        "```\n",
        "# Checkout your master branch and merge upstream\n",
        "git checkout master\n",
        "git merge upstream/master\n",
        "git push origin master\n",
        "```\n"
      ]
    },
    {
      "cell_type": "markdown",
      "metadata": {
        "id": "tX5BymVb0BGK",
        "colab_type": "text"
      },
      "source": [
        "## Committing/Pushing to Github with Colab\n",
        "\n",
        "First click on File in the top left corner of your notebook and go down to \"Save a copy in Github\" \n",
        "\n",
        "![](https://raw.githubusercontent.com/BeaverWorksMedlytics2020/Data_public/master/Images/Week1/colab4.jpg)\n",
        "\n",
        "You may and should get a pop-up asking for permission to access your Github account through Colab, since this is presumably most people's first time using this feature. Once you sort that out you'll see a new pop-up in the middle of the screen for your commit, where you can choose which branch to push it to or edit your commit message. \n",
        "\n",
        "![](https://raw.githubusercontent.com/BeaverWorksMedlytics2020/Data_public/master/Images/Week1/colab5.png)\n",
        "\n",
        "Once you click \"Ok\" (aka push your commit) you'll be redirected to the page of the file you edited on Github. To confirm that it worked, you should see the commit message you just made in Colab as the latest commit.\n",
        "\n",
        "![](https://raw.githubusercontent.com/BeaverWorksMedlytics2020/Data_public/master/Images/Week1/colab6.jpg)"
      ]
    }
  ]
}